{
  "nbformat": 4,
  "nbformat_minor": 0,
  "metadata": {
    "colab": {
      "name": "1. Matplot Lib.ipynb",
      "provenance": [],
      "collapsed_sections": []
    },
    "kernelspec": {
      "name": "python3",
      "display_name": "Python 3"
    },
    "language_info": {
      "name": "python"
    }
  },
  "cells": [
    {
      "cell_type": "markdown",
      "metadata": {
        "id": "mnmEWycZArw7"
      },
      "source": [
        "**What is Matplotlib?**\n",
        "* Matplotlib is a low level graph plotting library in python that serves as a visualization utility.\n",
        "* Matplotlib was created by John D. Hunter.\n",
        "* Matplotlib is open source and we can use it freely.\n",
        "* Matplotlib is mostly written in python, a few segments are written in C, Objective-C and Javascript for Platform compatibility."
      ]
    },
    {
      "cell_type": "code",
      "metadata": {
        "colab": {
          "base_uri": "https://localhost:8080/"
        },
        "id": "EA2TH0LuA8bi",
        "outputId": "40cff033-67ff-4cc3-b353-eadbbfff5840"
      },
      "source": [
        "# Installation of Matplotlib\n",
        "!pip install matplotlib"
      ],
      "execution_count": 8,
      "outputs": [
        {
          "output_type": "stream",
          "name": "stdout",
          "text": [
            "Requirement already satisfied: matplotlib in /usr/local/lib/python3.7/dist-packages (3.2.2)\n",
            "Requirement already satisfied: numpy>=1.11 in /usr/local/lib/python3.7/dist-packages (from matplotlib) (1.19.5)\n",
            "Requirement already satisfied: kiwisolver>=1.0.1 in /usr/local/lib/python3.7/dist-packages (from matplotlib) (1.3.2)\n",
            "Requirement already satisfied: pyparsing!=2.0.4,!=2.1.2,!=2.1.6,>=2.0.1 in /usr/local/lib/python3.7/dist-packages (from matplotlib) (2.4.7)\n",
            "Requirement already satisfied: python-dateutil>=2.1 in /usr/local/lib/python3.7/dist-packages (from matplotlib) (2.8.2)\n",
            "Requirement already satisfied: cycler>=0.10 in /usr/local/lib/python3.7/dist-packages (from matplotlib) (0.10.0)\n",
            "Requirement already satisfied: six in /usr/local/lib/python3.7/dist-packages (from cycler>=0.10->matplotlib) (1.15.0)\n"
          ]
        }
      ]
    },
    {
      "cell_type": "code",
      "metadata": {
        "id": "Eo33u-K_BVqH"
      },
      "source": [
        "# Import ones install\n",
        "import matplotlib"
      ],
      "execution_count": 9,
      "outputs": []
    },
    {
      "cell_type": "code",
      "metadata": {
        "colab": {
          "base_uri": "https://localhost:8080/"
        },
        "id": "C9kRctERBreI",
        "outputId": "f8d0269c-b2e3-4458-b0aa-1f0842e46ae1"
      },
      "source": [
        "# Matplot version\n",
        "print(matplotlib.__version__)   # Note: two underscore characters are used in __version__."
      ],
      "execution_count": 10,
      "outputs": [
        {
          "output_type": "stream",
          "name": "stdout",
          "text": [
            "3.2.2\n"
          ]
        }
      ]
    },
    {
      "cell_type": "markdown",
      "metadata": {
        "id": "D2nEh8luB6-4"
      },
      "source": [
        "**Pyplot**\n",
        "* Most of the Matplotlib utilities lies under the pyplot submodule, and are usually imported under the plt alias:"
      ]
    },
    {
      "cell_type": "code",
      "metadata": {
        "id": "1sSJbF7WB_7A"
      },
      "source": [
        "# Import pyplot submodule under matplotlib\n",
        "import matplotlib.pyplot as plt   # Now the Pyplot package can be referred to as plt."
      ],
      "execution_count": 2,
      "outputs": []
    },
    {
      "cell_type": "markdown",
      "metadata": {
        "id": "a8N3GJCfC9BT"
      },
      "source": [
        "#**Matplotlib Plotting**"
      ]
    },
    {
      "cell_type": "markdown",
      "metadata": {
        "id": "ratUKvRJDBpg"
      },
      "source": [
        "**Plotting x and y points**\n",
        "* The plot() function is used to draw points (markers) in a diagram.\n",
        "* By default, the plot() function draws a line from point to point.\n",
        "* The function takes parameters for specifying points in the diagram.\n",
        "* Parameter 1 is an array containing the points on the x-axis.\n",
        "* Parameter 2 is an array containing the points on the y-axis.\n",
        "* If we need to plot a line from (1, 3) to (8, 10), we have to pass two arrays [1, 8] and [3, 10] to the plot function."
      ]
    },
    {
      "cell_type": "code",
      "metadata": {
        "id": "cF78zs0bDa1V"
      },
      "source": [
        "import numpy as np"
      ],
      "execution_count": 11,
      "outputs": []
    },
    {
      "cell_type": "markdown",
      "metadata": {
        "id": "1DlmSFOwHRNK"
      },
      "source": [
        "**Plotting Points**\n",
        "\n",
        "To plot only the points or  markers, you can use shortcut string notation parameter 'o', which means 'rings'."
      ]
    },
    {
      "cell_type": "code",
      "metadata": {
        "colab": {
          "base_uri": "https://localhost:8080/",
          "height": 265
        },
        "id": "tc0uyEu5Gd0M",
        "outputId": "ccebbe1f-1982-4a7b-91a8-86cdac46c11a"
      },
      "source": [
        "# Draw two points in the diagram, one at position (1, 3) and one in position (8, 10):\n",
        "xpoints = np.array([1, 8])\n",
        "ypoints = np.array([3, 10])\n",
        "plt.plot(xpoints, ypoints, 'o')\n",
        "plt.show()"
      ],
      "execution_count": 14,
      "outputs": [
        {
          "output_type": "display_data",
          "data": {
            "image/png": "[encoded data removed]",
            "text/plain": [
              "<Figure size 432x288 with 1 Axes>"
            ]
          },
          "metadata": {
            "needs_background": "light"
          }
        }
      ]
    },
    {
      "cell_type": "markdown",
      "metadata": {
        "id": "ItCr349IHgtL"
      },
      "source": [
        "**Ploting Line**"
      ]
    },
    {
      "cell_type": "code",
      "metadata": {
        "colab": {
          "base_uri": "https://localhost:8080/",
          "height": 265
        },
        "id": "GCZ_-PX4C__o",
        "outputId": "c423f452-5c8d-4dbb-824d-1f743205c59a"
      },
      "source": [
        "# Draw a line in a diagram from position (1, 3) to position (8, 10):\n",
        "xpoints = np.array([1, 8])\n",
        "ypoints = np.array([3, 10])\n",
        "plt.plot(xpoints, ypoints)\n",
        "plt.show()"
      ],
      "execution_count": 12,
      "outputs": [
        {
          "output_type": "display_data",
          "data": {
            "image/png": "[encoded data removed]",
            "text/plain": [
              "<Figure size 432x288 with 1 Axes>"
            ]
          },
          "metadata": {
            "needs_background": "light"
          }
        }
      ]
    },
    {
      "cell_type": "markdown",
      "metadata": {
        "id": "YlY4XKAIEE4N"
      },
      "source": [
        "**Multiple Points**\n",
        "* You can plot as many points as you like, just make sure you have the same number of points in both axis."
      ]
    },
    {
      "cell_type": "code",
      "metadata": {
        "colab": {
          "base_uri": "https://localhost:8080/",
          "height": 265
        },
        "id": "Fb9zUJMa3qHt",
        "outputId": "82cf9738-5325-4610-fab6-63643e526a9c"
      },
      "source": [
        "# Plot the points  (1, 3) , (2, 8), (6, 1) and (8, 10) :\n",
        "xpoints = np.array([1, 2, 6, 8])\n",
        "ypoints = np.array([3, 8, 1, 10])\n",
        "plt.plot(xpoints, ypoints, 'o')\n",
        "plt.show()"
      ],
      "execution_count": 15,
      "outputs": [
        {
          "output_type": "display_data",
          "data": {
            "image/png": "[encoded data removed]",
            "text/plain": [
              "<Figure size 432x288 with 1 Axes>"
            ]
          },
          "metadata": {
            "needs_background": "light"
          }
        }
      ]
    },
    {
      "cell_type": "code",
      "metadata": {
        "colab": {
          "base_uri": "https://localhost:8080/",
          "height": 265
        },
        "id": "2fmDkHokEGZF",
        "outputId": "510f1fa1-5481-49fb-eff4-1adf121dc37c"
      },
      "source": [
        "# Draw a line in a diagram from position (1, 3) to (2, 8) then to (6, 1) and finally to position (8, 10):\n",
        "xpoints = np.array([1, 2, 6, 8])\n",
        "ypoints = np.array([3, 8, 1, 10])\n",
        "plt.plot(xpoints, ypoints)\n",
        "plt.show()"
      ],
      "execution_count": 16,
      "outputs": [
        {
          "output_type": "display_data",
          "data": {
            "image/png": "[encoded data removed]",
            "text/plain": [
              "<Figure size 432x288 with 1 Axes>"
            ]
          },
          "metadata": {
            "needs_background": "light"
          }
        }
      ]
    },
    {
      "cell_type": "markdown",
      "metadata": {
        "id": "R3bsD7ydEeIi"
      },
      "source": [
        "**Default X-Points**\n",
        "* If we do not specify the points in the x-axis, they will get the default values 0, 1, 2, 3, (etc. depending on the length of the y-points.\n",
        "* So, if we take the same example as above, and leave out the x-points, the diagram will look like this:"
      ]
    },
    {
      "cell_type": "code",
      "metadata": {
        "colab": {
          "base_uri": "https://localhost:8080/",
          "height": 265
        },
        "id": "WkTjMkG5Em7o",
        "outputId": "a9cbbfc7-6c89-45b4-b357-8b49ae7d7a4b"
      },
      "source": [
        "# Plotting without x-points:\n",
        "ypoints = np.array([3, 8, 1, 10, 5, 7])\n",
        "plt.plot(ypoints)\n",
        "plt.show()"
      ],
      "execution_count": 17,
      "outputs": [
        {
          "output_type": "display_data",
          "data": {
            "image/png": "[encoded data removed]",
            "text/plain": [
              "<Figure size 432x288 with 1 Axes>"
            ]
          },
          "metadata": {
            "needs_background": "light"
          }
        }
      ]
    },
    {
      "cell_type": "markdown",
      "metadata": {
        "id": "NMkQb0xGE5nf"
      },
      "source": [
        "The x-points in the example above is [0, 1, 2, 3, 4, 5]."
      ]
    },
    {
      "cell_type": "markdown",
      "metadata": {
        "id": "95c4MQxkE7G8"
      },
      "source": [
        "# **Matplotlib Markers**"
      ]
    },
    {
      "cell_type": "markdown",
      "metadata": {
        "id": "mkSLHaJiFEEb"
      },
      "source": [
        "**Markers**\n",
        "* You can use the keyword argument marker to emphasize each point with a specified marker:"
      ]
    },
    {
      "cell_type": "code",
      "metadata": {
        "colab": {
          "base_uri": "https://localhost:8080/",
          "height": 265
        },
        "id": "wlGCs80ZFA__",
        "outputId": "6059639e-4d26-42fa-d38d-ade769cef673"
      },
      "source": [
        "# Mark each point with a circle:\n",
        "ypoints = np.array([3, 8, 1, 10])\n",
        "plt.plot(ypoints, marker = 'o')\n",
        "plt.show()"
      ],
      "execution_count": 18,
      "outputs": [
        {
          "output_type": "display_data",
          "data": {
            "image/png": "[encoded data removed]",
            "text/plain": [
              "<Figure size 432x288 with 1 Axes>"
            ]
          },
          "metadata": {
            "needs_background": "light"
          }
        }
      ]
    },
    {
      "cell_type": "code",
      "metadata": {
        "colab": {
          "base_uri": "https://localhost:8080/",
          "height": 265
        },
        "id": "lnbOP8atFWqF",
        "outputId": "b6a2a7d3-bfea-4e95-d68e-1388288744db"
      },
      "source": [
        "# Mark each point with a star:\n",
        "ypoints = np.array([3, 8, 1, 10])\n",
        "plt.plot(ypoints, marker = '*')\n",
        "plt.show()"
      ],
      "execution_count": 19,
      "outputs": [
        {
          "output_type": "display_data",
          "data": {
            "image/png": "[encoded data removed]",
            "text/plain": [
              "<Figure size 432x288 with 1 Axes>"
            ]
          },
          "metadata": {
            "needs_background": "light"
          }
        }
      ]
    },
    {
      "cell_type": "markdown",
      "metadata": {
        "id": "xdA7fLAoF-P2"
      },
      "source": [
        "**Reference for Marker:**\n",
        "* https://matplotlib.org/stable/api/markers_api.html"
      ]
    },
    {
      "cell_type": "markdown",
      "metadata": {
        "id": "ENCJFIvNGQMC"
      },
      "source": [
        "# **Format Strings fmt**"
      ]
    },
    {
      "cell_type": "markdown",
      "metadata": {
        "id": "KOA-dBriGX9s"
      },
      "source": [
        "* You can use also use the shortcut string notation parameter to specify the marker.\n",
        "* This parameter is also called fmt, and is written with this\n",
        " **syntax: marker|line|color** "
      ]
    },
    {
      "cell_type": "code",
      "metadata": {
        "colab": {
          "base_uri": "https://localhost:8080/",
          "height": 265
        },
        "id": "N20qWZMPGMD7",
        "outputId": "964324e9-0fc6-4736-d2ce-4e7f6b966d34"
      },
      "source": [
        "ypoints = np.array([3, 8, 1, 10])\n",
        "plt.plot(ypoints, 'o:r')\n",
        "plt.show()"
      ],
      "execution_count": 20,
      "outputs": [
        {
          "output_type": "display_data",
          "data": {
            "image/png": "[encoded data removed]",
            "text/plain": [
              "<Figure size 432x288 with 1 Axes>"
            ]
          },
          "metadata": {
            "needs_background": "light"
          }
        }
      ]
    },
    {
      "cell_type": "markdown",
      "metadata": {
        "id": "FKqn6Dw4Husd"
      },
      "source": [
        "* **Line Style reference:**  https://matplotlib.org/2.0.2/api/lines_api.html\n",
        "* **Colour reference:**  https://matplotlib.org/2.0.2/api/colors_api.html"
      ]
    },
    {
      "cell_type": "markdown",
      "metadata": {
        "id": "2mHA_vOpIi9P"
      },
      "source": [
        "**Marker Size**\n",
        "* You can use the keyword argument markersize or the shorter version, ms to set the size of the markers:"
      ]
    },
    {
      "cell_type": "code",
      "metadata": {
        "colab": {
          "base_uri": "https://localhost:8080/",
          "height": 265
        },
        "id": "-4dXO6n8Im3P",
        "outputId": "c2a61e34-104f-43ce-afa3-95d5e6a5d63a"
      },
      "source": [
        "# Set the size of the markers to 20:\n",
        "ypoints = np.array([3, 8, 1, 10])\n",
        "plt.plot(ypoints, marker = 'o', ms = 20)\n",
        "plt.show()"
      ],
      "execution_count": 21,
      "outputs": [
        {
          "output_type": "display_data",
          "data": {
            "image/png": "[encoded data removed]",
            "text/plain": [
              "<Figure size 432x288 with 1 Axes>"
            ]
          },
          "metadata": {
            "needs_background": "light"
          }
        }
      ]
    },
    {
      "cell_type": "markdown",
      "metadata": {
        "id": "tDQUIbX2I7w2"
      },
      "source": [
        "**Marker Color**\n",
        "* You can use the keyword argument **markeredgecolor** or the shorter mec to set the color of the edge of the markers:"
      ]
    },
    {
      "cell_type": "code",
      "metadata": {
        "colab": {
          "base_uri": "https://localhost:8080/",
          "height": 265
        },
        "id": "K8JOywYfI94y",
        "outputId": "69a3618f-59ab-4419-9377-0d0a27eb43fa"
      },
      "source": [
        "# Set the EDGE color to red:\n",
        "ypoints = np.array([3, 8, 1, 10])\n",
        "plt.plot(ypoints, marker = 'o', ms = 20, mec = 'r')\n",
        "plt.show()"
      ],
      "execution_count": 22,
      "outputs": [
        {
          "output_type": "display_data",
          "data": {
            "image/png": "[encoded data removed]",
            "text/plain": [
              "<Figure size 432x288 with 1 Axes>"
            ]
          },
          "metadata": {
            "needs_background": "light"
          }
        }
      ]
    },
    {
      "cell_type": "markdown",
      "metadata": {
        "id": "25IprF2EJMTo"
      },
      "source": [
        "You can use the keyword argument **markerfacecolor** or the shorter mfc to set the color inside the edge of the markers:"
      ]
    },
    {
      "cell_type": "code",
      "metadata": {
        "colab": {
          "base_uri": "https://localhost:8080/",
          "height": 265
        },
        "id": "FC42VvAEJNNG",
        "outputId": "90898031-b364-453a-b8bd-8289521627d0"
      },
      "source": [
        "ypoints = np.array([3, 8, 1, 10])\n",
        "plt.plot(ypoints, marker = 'o', ms = 20, mfc = 'r')\n",
        "plt.show()"
      ],
      "execution_count": 23,
      "outputs": [
        {
          "output_type": "display_data",
          "data": {
            "image/png": "[encoded data removed]",
            "text/plain": [
              "<Figure size 432x288 with 1 Axes>"
            ]
          },
          "metadata": {
            "needs_background": "light"
          }
        }
      ]
    },
    {
      "cell_type": "markdown",
      "metadata": {
        "id": "BYKeo3MrJYY2"
      },
      "source": [
        "Use both the mec and mfc arguments to color of the entire marker:"
      ]
    },
    {
      "cell_type": "code",
      "metadata": {
        "colab": {
          "base_uri": "https://localhost:8080/",
          "height": 265
        },
        "id": "DpA82NadJZYJ",
        "outputId": "fc1040c8-96b7-4a93-98c3-1e280d8fe6be"
      },
      "source": [
        "# Set the color of both the edge and the face to red:\n",
        "ypoints = np.array([3, 8, 1, 10])\n",
        "plt.plot(ypoints, marker = 'o', ms = 20, mec = 'r', mfc = 'g')\n",
        "plt.show()"
      ],
      "execution_count": 24,
      "outputs": [
        {
          "output_type": "display_data",
          "data": {
            "image/png": "[encoded data removed]",
            "text/plain": [
              "<Figure size 432x288 with 1 Axes>"
            ]
          },
          "metadata": {
            "needs_background": "light"
          }
        }
      ]
    },
    {
      "cell_type": "code",
      "metadata": {
        "id": "n_kEF7m4JlQc"
      },
      "source": [
        "# Mark each point with a beautiful green color:\n",
        "ypoints = np.array([3, 8, 1, 10])\n",
        "plt.plot(ypoints, marker = 'o', ms = 20, mec = '#4CAF50', mfc = '#4CAF50')\n",
        "plt.show()"
      ],
      "execution_count": null,
      "outputs": []
    },
    {
      "cell_type": "markdown",
      "metadata": {
        "id": "9ZWX53QNJ6Rj"
      },
      "source": [
        "#**Matplotlib Line**"
      ]
    },
    {
      "cell_type": "markdown",
      "metadata": {
        "id": "YRa3ZYZjJ93m"
      },
      "source": [
        "**Linestyle**\n",
        "* You can use the keyword argument linestyle, or shorter ls, to change the style of the plotted line:"
      ]
    },
    {
      "cell_type": "code",
      "metadata": {
        "colab": {
          "base_uri": "https://localhost:8080/",
          "height": 265
        },
        "id": "DAZY0IsBKDjg",
        "outputId": "8b0a9f0f-a092-47db-c634-c1ee0a3b6ddf"
      },
      "source": [
        "# Use a dotted line:\n",
        "ypoints = np.array([3, 8, 1, 10])\n",
        "plt.plot(ypoints, linestyle = 'dotted')\n",
        "plt.show()"
      ],
      "execution_count": 25,
      "outputs": [
        {
          "output_type": "display_data",
          "data": {
            "image/png": "[encoded data removed]",
            "text/plain": [
              "<Figure size 432x288 with 1 Axes>"
            ]
          },
          "metadata": {
            "needs_background": "light"
          }
        }
      ]
    },
    {
      "cell_type": "code",
      "metadata": {
        "colab": {
          "base_uri": "https://localhost:8080/",
          "height": 265
        },
        "id": "00Gec2NSKNtF",
        "outputId": "e0b106a6-e30d-4b4e-c937-aea8bda28fce"
      },
      "source": [
        "# Use a dashed line:\n",
        "ypoints = np.array([3, 8, 1, 10])\n",
        "plt.plot(ypoints, linestyle = 'dashed')\n",
        "plt.show()"
      ],
      "execution_count": 26,
      "outputs": [
        {
          "output_type": "display_data",
          "data": {
            "image/png": "[encoded data removed]",
            "text/plain": [
              "<Figure size 432x288 with 1 Axes>"
            ]
          },
          "metadata": {
            "needs_background": "light"
          }
        }
      ]
    },
    {
      "cell_type": "markdown",
      "metadata": {
        "id": "QqdcF09GKf46"
      },
      "source": [
        "**Shorter Syntax:**\n",
        "The line style can be written in a shorter syntax:\n",
        "* linestyle can be written as ls.\n",
        "* dotted can be written as :.\n",
        "* dashed can be written as --."
      ]
    },
    {
      "cell_type": "code",
      "metadata": {
        "colab": {
          "base_uri": "https://localhost:8080/",
          "height": 265
        },
        "id": "5ACytQmZKp_G",
        "outputId": "8add3167-d8ff-4d9d-b5b7-6ac267f0fb6b"
      },
      "source": [
        "# Use a dashed line: shorter notation\n",
        "ypoints = np.array([3, 8, 1, 10])\n",
        "plt.plot(ypoints, ls = ':')\n",
        "plt.show()"
      ],
      "execution_count": 27,
      "outputs": [
        {
          "output_type": "display_data",
          "data": {
            "image/png": "[encoded data removed]",
            "text/plain": [
              "<Figure size 432x288 with 1 Axes>"
            ]
          },
          "metadata": {
            "needs_background": "light"
          }
        }
      ]
    },
    {
      "cell_type": "markdown",
      "metadata": {
        "id": "Z7fkddyMLI8C"
      },
      "source": [
        "**Line Color**\n",
        "* You can use the keyword argument color or the shorter c to set the color of the line:"
      ]
    },
    {
      "cell_type": "code",
      "metadata": {
        "colab": {
          "base_uri": "https://localhost:8080/",
          "height": 265
        },
        "id": "ygZPzPLiLLPv",
        "outputId": "d2a74c00-f62b-443a-b6cd-c9090267431a"
      },
      "source": [
        "ypoints = np.array([3, 8, 1, 10])\n",
        "plt.plot(ypoints, color = 'r')\n",
        "plt.show()"
      ],
      "execution_count": 28,
      "outputs": [
        {
          "output_type": "display_data",
          "data": {
            "image/png": "[encoded data removed]",
            "text/plain": [
              "<Figure size 432x288 with 1 Axes>"
            ]
          },
          "metadata": {
            "needs_background": "light"
          }
        }
      ]
    },
    {
      "cell_type": "code",
      "metadata": {
        "colab": {
          "base_uri": "https://localhost:8080/",
          "height": 265
        },
        "id": "PJCKKYSCLUeD",
        "outputId": "772d7ca4-4680-4ca5-cb67-8aaa58dcba4f"
      },
      "source": [
        "# Plot with a beautiful green line:\n",
        "ypoints = np.array([3, 8, 1, 10])\n",
        "plt.plot(ypoints, c = '#4CAF50')\n",
        "plt.show()"
      ],
      "execution_count": 29,
      "outputs": [
        {
          "output_type": "display_data",
          "data": {
            "image/png": "[encoded data removed]",
            "text/plain": [
              "<Figure size 432x288 with 1 Axes>"
            ]
          },
          "metadata": {
            "needs_background": "light"
          }
        }
      ]
    },
    {
      "cell_type": "code",
      "metadata": {
        "colab": {
          "base_uri": "https://localhost:8080/",
          "height": 265
        },
        "id": "C4hOVnk4Lswu",
        "outputId": "4554c7c9-cb0c-41ca-888d-fe63e68ed13c"
      },
      "source": [
        "# Plot with the color named \"hotpink\":\n",
        "ypoints = np.array([3, 8, 1, 10])\n",
        "plt.plot(ypoints, c = 'hotpink')\n",
        "plt.show()"
      ],
      "execution_count": 30,
      "outputs": [
        {
          "output_type": "display_data",
          "data": {
            "image/png": "[encoded data removed]",
            "text/plain": [
              "<Figure size 432x288 with 1 Axes>"
            ]
          },
          "metadata": {
            "needs_background": "light"
          }
        }
      ]
    },
    {
      "cell_type": "markdown",
      "metadata": {
        "id": "9AWqHuXeMFnO"
      },
      "source": [
        "**Line Width**\n",
        "* You can use the keyword argument linewidth or the shorter lw to change the width of the line.\n",
        "* The value is a floating number, in points:"
      ]
    },
    {
      "cell_type": "code",
      "metadata": {
        "colab": {
          "base_uri": "https://localhost:8080/",
          "height": 265
        },
        "id": "TDUY_cwZMJPf",
        "outputId": "62699888-70bd-4e20-8324-5fa1d80debaf"
      },
      "source": [
        "# Plot with a 20.5pt wide line:\n",
        "ypoints = np.array([3, 8, 1, 10])\n",
        "plt.plot(ypoints, linewidth = '20.5')\n",
        "plt.show()"
      ],
      "execution_count": 31,
      "outputs": [
        {
          "output_type": "display_data",
          "data": {
            "image/png": "[encoded data removed]",
            "text/plain": [
              "<Figure size 432x288 with 1 Axes>"
            ]
          },
          "metadata": {
            "needs_background": "light"
          }
        }
      ]
    },
    {
      "cell_type": "markdown",
      "metadata": {
        "id": "DQAj6b5OM34b"
      },
      "source": [
        "**Multiple Lines**\n",
        "* You can plot as many lines as you like by simply adding more plt.plot() functions:"
      ]
    },
    {
      "cell_type": "code",
      "metadata": {
        "colab": {
          "base_uri": "https://localhost:8080/",
          "height": 265
        },
        "id": "sVXtQZ8_M7Bq",
        "outputId": "85f4cf45-c02a-47a0-979b-4955bc3d3df6"
      },
      "source": [
        "# Draw two lines by specifying a plt.plot() function for each line:\n",
        "y1 = np.array([3, 8, 1, 10])\n",
        "y2 = np.array([6, 2, 7, 11])\n",
        "\n",
        "plt.plot(y1)\n",
        "plt.plot(y2)\n",
        "\n",
        "plt.show()"
      ],
      "execution_count": 32,
      "outputs": [
        {
          "output_type": "display_data",
          "data": {
            "image/png": "[encoded data removed]",
            "text/plain": [
              "<Figure size 432x288 with 1 Axes>"
            ]
          },
          "metadata": {
            "needs_background": "light"
          }
        }
      ]
    },
    {
      "cell_type": "markdown",
      "metadata": {
        "id": "FddwlW0ANcBZ"
      },
      "source": [
        "Draw two lines by specifiyng the x- and y-point values for both lines:"
      ]
    },
    {
      "cell_type": "code",
      "metadata": {
        "colab": {
          "base_uri": "https://localhost:8080/",
          "height": 265
        },
        "id": "TPo2LDUBNhby",
        "outputId": "acac4305-0176-4463-fa6f-c928c19603ce"
      },
      "source": [
        "# Draw two lines by specifiyng the x- and y-point values for both lines:\n",
        "x1 = np.array([0, 1, 2, 3])\n",
        "y1 = np.array([3, 8, 1, 10])\n",
        "\n",
        "x2 = np.array([0, 1, 2, 3])\n",
        "y2 = np.array([6, 2, 7, 11])\n",
        "\n",
        "plt.plot(x1, y1, x2, y2)\n",
        "plt.show()"
      ],
      "execution_count": 33,
      "outputs": [
        {
          "output_type": "display_data",
          "data": {
            "image/png": "[encoded data removed]",
            "text/plain": [
              "<Figure size 432x288 with 1 Axes>"
            ]
          },
          "metadata": {
            "needs_background": "light"
          }
        }
      ]
    },
    {
      "cell_type": "markdown",
      "metadata": {
        "id": "W2lzH-xfmvVo"
      },
      "source": [
        "# **Matplotlib Labels and Title**"
      ]
    },
    {
      "cell_type": "markdown",
      "metadata": {
        "id": "Y7BgU8kRmz9C"
      },
      "source": [
        "**Create Labels for a Plot**\n",
        "* With Pyplot, you can use the xlabel() and ylabel() functions to set a label for the x- and y-axis."
      ]
    },
    {
      "cell_type": "code",
      "metadata": {
        "colab": {
          "base_uri": "https://localhost:8080/",
          "height": 279
        },
        "id": "mS0JXWutm6mO",
        "outputId": "26ab6f4c-427f-4fa8-96df-7d312139b8ac"
      },
      "source": [
        "# Add labels to the x- and y-axis:\n",
        "x = np.array([80, 85, 90, 95, 100, 105, 110, 115, 120, 125])\n",
        "y = np.array([240, 250, 260, 270, 280, 290, 300, 310, 320, 330])\n",
        "\n",
        "plt.plot(x, y)\n",
        "\n",
        "plt.xlabel(\"Average Pulse\")\n",
        "plt.ylabel(\"Calorie Burnage\")\n",
        "\n",
        "plt.show()"
      ],
      "execution_count": 34,
      "outputs": [
        {
          "output_type": "display_data",
          "data": {
            "image/png": "[encoded data removed]",
            "text/plain": [
              "<Figure size 432x288 with 1 Axes>"
            ]
          },
          "metadata": {
            "needs_background": "light"
          }
        }
      ]
    },
    {
      "cell_type": "markdown",
      "metadata": {
        "id": "XQBPuL11nsNc"
      },
      "source": [
        "**Create a Title for a Plot**\n",
        "* With Pyplot, you can use the title() function to set a title for the plot."
      ]
    },
    {
      "cell_type": "code",
      "metadata": {
        "colab": {
          "base_uri": "https://localhost:8080/",
          "height": 295
        },
        "id": "jSmv5XCgnwDx",
        "outputId": "0efbd0c9-f9dd-4762-9f52-d0111e9fd360"
      },
      "source": [
        "# Add a plot title and labels for the x- and y-axis:\n",
        "x = np.array([80, 85, 90, 95, 100, 105, 110, 115, 120, 125])\n",
        "y = np.array([240, 250, 260, 270, 280, 290, 300, 310, 320, 330])\n",
        "\n",
        "plt.plot(x, y)\n",
        "\n",
        "plt.title(\"Sports Watch Data\")\n",
        "plt.xlabel(\"Average Pulse\")\n",
        "plt.ylabel(\"Calorie Burnage\")\n",
        "\n",
        "plt.show()"
      ],
      "execution_count": 35,
      "outputs": [
        {
          "output_type": "display_data",
          "data": {
            "image/png": "[encoded data removed]",
            "text/plain": [
              "<Figure size 432x288 with 1 Axes>"
            ]
          },
          "metadata": {
            "needs_background": "light"
          }
        }
      ]
    },
    {
      "cell_type": "markdown",
      "metadata": {
        "id": "m4OGJIRboBZ8"
      },
      "source": [
        "**Set Font Properties for Title and Labels**\n",
        "* You can use the fontdict parameter in xlabel(), ylabel(), and title() to set font properties for the title and labels."
      ]
    },
    {
      "cell_type": "code",
      "metadata": {
        "colab": {
          "base_uri": "https://localhost:8080/",
          "height": 304
        },
        "id": "w28ELKVCoHJ7",
        "outputId": "6562ae23-1aff-4ae8-e23b-7b9e5d433bc6"
      },
      "source": [
        "# Set font properties for the title and labels:\n",
        "x = np.array([80, 85, 90, 95, 100, 105, 110, 115, 120, 125])\n",
        "y = np.array([240, 250, 260, 270, 280, 290, 300, 310, 320, 330])\n",
        "\n",
        "font1 = {'family':'serif','color':'blue','size':20}\n",
        "font2 = {'family':'serif','color':'darkred','size':15}\n",
        "\n",
        "plt.title(\"Sports Watch Data\", fontdict = font1)\n",
        "plt.xlabel(\"Average Pulse\", fontdict = font2)\n",
        "plt.ylabel(\"Calorie Burnage\", fontdict = font2)\n",
        "\n",
        "plt.plot(x, y)\n",
        "plt.show()"
      ],
      "execution_count": 36,
      "outputs": [
        {
          "output_type": "display_data",
          "data": {
            "image/png": "[encoded data removed]",
            "text/plain": [
              "<Figure size 432x288 with 1 Axes>"
            ]
          },
          "metadata": {
            "needs_background": "light"
          }
        }
      ]
    },
    {
      "cell_type": "markdown",
      "metadata": {
        "id": "cx2mhFdn69wY"
      },
      "source": [
        "Font Family: https://www.oreilly.com/library/view/matplotlib-2x-by/9781788295260/9af01705-e09c-4d1e-a036-ca0260d5003b.xhtml"
      ]
    },
    {
      "cell_type": "markdown",
      "metadata": {
        "id": "aakVrWNLoguO"
      },
      "source": [
        "**Position the Title**\n",
        "* You can use the loc parameter in title() to position the title.\n",
        "* Legal values are: 'left', 'right', and 'center'. Default value is 'center'."
      ]
    },
    {
      "cell_type": "code",
      "metadata": {
        "colab": {
          "base_uri": "https://localhost:8080/",
          "height": 295
        },
        "id": "ltXAm0MRopfv",
        "outputId": "86c2463d-bbc7-4766-8c8a-b306e17f26a6"
      },
      "source": [
        "# Position the title to the left:\n",
        "x = np.array([80, 85, 90, 95, 100, 105, 110, 115, 120, 125])\n",
        "y = np.array([240, 250, 260, 270, 280, 290, 300, 310, 320, 330])\n",
        "\n",
        "plt.title(\"Sports Watch Data\", loc = 'left')\n",
        "plt.xlabel(\"Average Pulse\")\n",
        "plt.ylabel(\"Calorie Burnage\")\n",
        "\n",
        "plt.plot(x, y)\n",
        "plt.show()"
      ],
      "execution_count": 37,
      "outputs": [
        {
          "output_type": "display_data",
          "data": {
            "image/png": "[encoded data removed]",
            "text/plain": [
              "<Figure size 432x288 with 1 Axes>"
            ]
          },
          "metadata": {
            "needs_background": "light"
          }
        }
      ]
    },
    {
      "cell_type": "markdown",
      "metadata": {
        "id": "FPL-Ta1zo7jT"
      },
      "source": [
        "# **Matplotlib Adding Grid Lines**"
      ]
    },
    {
      "cell_type": "markdown",
      "metadata": {
        "id": "7Qvly0BmpBvG"
      },
      "source": [
        "**Add Grid Lines to a Plot**\n",
        "* With Pyplot, you can use the grid() function to add grid lines to the plot."
      ]
    },
    {
      "cell_type": "code",
      "metadata": {
        "id": "P0c4Zr4qpHum"
      },
      "source": [
        "x = np.array([80, 85, 90, 95, 100, 105, 110, 115, 120, 125])\n",
        "y = np.array([240, 250, 260, 270, 280, 290, 300, 310, 320, 330])\n",
        "\n",
        "plt.title(\"Sports Watch Data\")\n",
        "plt.xlabel(\"Average Pulse\")\n",
        "plt.ylabel(\"Calorie Burnage\")\n",
        "\n",
        "plt.plot(x, y)\n",
        "\n",
        "plt.grid()\n",
        "\n",
        "plt.show()"
      ],
      "execution_count": null,
      "outputs": []
    },
    {
      "cell_type": "markdown",
      "metadata": {
        "id": "oIAnDKmLpa-G"
      },
      "source": [
        "**Specify Which Grid Lines to Display**\n",
        "* You can use the axis parameter in the grid() function to specify which grid lines to display.\n",
        "* Legal values are: 'x', 'y', and 'both'. Default value is 'both'."
      ]
    },
    {
      "cell_type": "code",
      "metadata": {
        "id": "aE122FEJpgfD"
      },
      "source": [
        "# Display only grid lines for the x-axis:\n",
        "x = np.array([80, 85, 90, 95, 100, 105, 110, 115, 120, 125])\n",
        "y = np.array([240, 250, 260, 270, 280, 290, 300, 310, 320, 330])\n",
        "\n",
        "plt.title(\"Sports Watch Data\")\n",
        "plt.xlabel(\"Average Pulse\")\n",
        "plt.ylabel(\"Calorie Burnage\")\n",
        "\n",
        "plt.plot(x, y)\n",
        "\n",
        "plt.grid(axis = 'x')\n",
        "\n",
        "plt.show()"
      ],
      "execution_count": null,
      "outputs": []
    },
    {
      "cell_type": "code",
      "metadata": {
        "id": "HmAFUbxppyPA"
      },
      "source": [
        "# Display only grid lines for the y-axis:\n",
        "\n",
        "x = np.array([80, 85, 90, 95, 100, 105, 110, 115, 120, 125])\n",
        "y = np.array([240, 250, 260, 270, 280, 290, 300, 310, 320, 330])\n",
        "\n",
        "plt.title(\"Sports Watch Data\")\n",
        "plt.xlabel(\"Average Pulse\")\n",
        "plt.ylabel(\"Calorie Burnage\")\n",
        "\n",
        "plt.plot(x, y)\n",
        "plt.grid(axis = 'y')\n",
        "plt.show()"
      ],
      "execution_count": null,
      "outputs": []
    },
    {
      "cell_type": "markdown",
      "metadata": {
        "id": "cPt7FD1lqHsx"
      },
      "source": [
        "**Set Line Properties for the Grid**\n",
        "* You can also set the line properties of the grid, like this: **grid(color = 'color', linestyle = 'linestyle', linewidth = number).**"
      ]
    },
    {
      "cell_type": "code",
      "metadata": {
        "id": "wTDHVDiCqNPI"
      },
      "source": [
        "x = np.array([80, 85, 90, 95, 100, 105, 110, 115, 120, 125])\n",
        "y = np.array([240, 250, 260, 270, 280, 290, 300, 310, 320, 330])\n",
        "\n",
        "plt.title(\"Sports Watch Data\")\n",
        "plt.xlabel(\"Average Pulse\")\n",
        "plt.ylabel(\"Calorie Burnage\")\n",
        "\n",
        "plt.plot(x, y)\n",
        "plt.grid(color = 'green', linestyle = '--', linewidth = 0.5)\n",
        "plt.show()"
      ],
      "execution_count": null,
      "outputs": []
    },
    {
      "cell_type": "markdown",
      "metadata": {
        "id": "q7pLzL_bqmHG"
      },
      "source": [
        "# **Matplotlib Subplots**"
      ]
    },
    {
      "cell_type": "markdown",
      "metadata": {
        "id": "y_4V-Tliqp-a"
      },
      "source": [
        "**Display Multiple Plots**\n",
        "* With the subplots() function you can draw multiple plots in one figure:"
      ]
    },
    {
      "cell_type": "markdown",
      "metadata": {
        "id": "siFU0_PEsK_m"
      },
      "source": [
        "**The subplots() Function**\n",
        "* The subplots() function takes three arguments that describes the layout of the figure.\n",
        "* The layout is organized in rows and columns, which are represented by the first and second argument.\n",
        "* The third argument represents the index of the current plot."
      ]
    },
    {
      "cell_type": "code",
      "metadata": {
        "id": "rZr4hxP1quz9"
      },
      "source": [
        "# Draw 2 plots:\n",
        "\n",
        "#plot 1:\n",
        "x = np.array([0, 1, 2, 3])\n",
        "y = np.array([3, 8, 1, 10])\n",
        "plt.subplot(1, 2, 1)              # The figure has 1 row, 2 columns, and this plot is the first plot.\n",
        "plt.plot(x,y)\n",
        "\n",
        "#plot 2:\n",
        "x = np.array([0, 1, 2, 3])\n",
        "y = np.array([10, 20, 30, 40])\n",
        "plt.subplot(1, 2, 2)             # The figure has 1 row, 2 columns, and this plot is the second plot.\n",
        "plt.plot(x,y)\n",
        "\n",
        "plt.show()"
      ],
      "execution_count": null,
      "outputs": []
    },
    {
      "cell_type": "markdown",
      "metadata": {
        "id": "ajNJPQLkshK_"
      },
      "source": [
        "So, if we want a figure with 2 rows an 1 column (meaning that the two plots will be displayed on top of each other instead of side-by-side), we can write the syntax like this:"
      ]
    },
    {
      "cell_type": "code",
      "metadata": {
        "id": "_UTJEaIdsiT4"
      },
      "source": [
        "# Draw 2 plots on top of each other:\n",
        "\n",
        "#plot 1:\n",
        "x = np.array([0, 1, 2, 3])\n",
        "y = np.array([3, 8, 1, 10])\n",
        "\n",
        "plt.subplot(2, 1, 1)\n",
        "plt.plot(x,y)\n",
        "\n",
        "#plot 2:\n",
        "x = np.array([0, 1, 2, 3])\n",
        "y = np.array([10, 20, 30, 40])\n",
        "\n",
        "plt.subplot(2, 1, 2)\n",
        "plt.plot(x,y)\n",
        "\n",
        "plt.show()"
      ],
      "execution_count": null,
      "outputs": []
    },
    {
      "cell_type": "markdown",
      "metadata": {
        "id": "3CjZQJwNzzku"
      },
      "source": [
        "You can draw as many plots you like on one figure, just descibe the number of rows, columns, and the index of the plot"
      ]
    },
    {
      "cell_type": "code",
      "metadata": {
        "id": "k6-kox5xz1Rf"
      },
      "source": [
        "# Draw 6 plots:\n",
        "x = np.array([0, 1, 2, 3])\n",
        "y = np.array([3, 8, 1, 10])\n",
        "\n",
        "plt.subplot(2, 3, 1)\n",
        "plt.plot(x,y)\n",
        "\n",
        "x = np.array([0, 1, 2, 3])\n",
        "y = np.array([10, 20, 30, 40])\n",
        "\n",
        "plt.subplot(2, 3, 2)\n",
        "plt.plot(x,y)\n",
        "\n",
        "x = np.array([0, 1, 2, 3])\n",
        "y = np.array([3, 8, 1, 10])\n",
        "\n",
        "plt.subplot(2, 3, 3)\n",
        "plt.plot(x,y)\n",
        "\n",
        "x = np.array([0, 1, 2, 3])\n",
        "y = np.array([10, 20, 30, 40])\n",
        "\n",
        "plt.subplot(2, 3, 4)\n",
        "plt.plot(x,y)\n",
        "\n",
        "x = np.array([0, 1, 2, 3])\n",
        "y = np.array([3, 8, 1, 10])\n",
        "\n",
        "plt.subplot(2, 3, 5)\n",
        "plt.plot(x,y)\n",
        "\n",
        "x = np.array([0, 1, 2, 3])\n",
        "y = np.array([10, 20, 30, 40])\n",
        "\n",
        "plt.subplot(2, 3, 6)\n",
        "plt.plot(x,y)\n",
        "\n",
        "plt.show()"
      ],
      "execution_count": null,
      "outputs": []
    },
    {
      "cell_type": "markdown",
      "metadata": {
        "id": "mzd38_f90Kvm"
      },
      "source": [
        "**Title**\n",
        "* You can add a title to each plot with the title() function:"
      ]
    },
    {
      "cell_type": "code",
      "metadata": {
        "id": "fj0saiap0NXm"
      },
      "source": [
        "# 2 plots, with titles:\n",
        "#plot 1:\n",
        "x = np.array([0, 1, 2, 3])\n",
        "y = np.array([3, 8, 1, 10])\n",
        "\n",
        "plt.subplot(1, 2, 1)\n",
        "plt.plot(x,y)\n",
        "plt.title(\"SALES\")\n",
        "\n",
        "#plot 2:\n",
        "x = np.array([0, 1, 2, 3])\n",
        "y = np.array([10, 20, 30, 40])\n",
        "\n",
        "plt.subplot(1, 2, 2)\n",
        "plt.plot(x,y)\n",
        "plt.title(\"INCOME\")\n",
        "\n",
        "plt.show()"
      ],
      "execution_count": null,
      "outputs": []
    },
    {
      "cell_type": "markdown",
      "metadata": {
        "id": "Xg8H0UzD0oq3"
      },
      "source": [
        "**Super Title**\n",
        "* You can add a title to the entire figure with the suptitle() function:"
      ]
    },
    {
      "cell_type": "code",
      "metadata": {
        "id": "_y__r88-0sTw"
      },
      "source": [
        "# Add a title for the entire figure:\n",
        "#plot 1:\n",
        "x = np.array([0, 1, 2, 3])\n",
        "y = np.array([3, 8, 1, 10])\n",
        "\n",
        "plt.subplot(1, 2, 1)\n",
        "plt.plot(x,y)\n",
        "plt.title(\"SALES\")\n",
        "\n",
        "#plot 2:\n",
        "x = np.array([0, 1, 2, 3])\n",
        "y = np.array([10, 20, 30, 40])\n",
        "\n",
        "plt.subplot(1, 2, 2)\n",
        "plt.plot(x,y)\n",
        "plt.title(\"INCOME\")\n",
        "\n",
        "plt.suptitle(\"MY SHOP\")\n",
        "plt.show()"
      ],
      "execution_count": null,
      "outputs": []
    },
    {
      "cell_type": "markdown",
      "metadata": {
        "id": "diBV5yxA0__6"
      },
      "source": [
        "# **Matplotlib Scatter**"
      ]
    },
    {
      "cell_type": "markdown",
      "metadata": {
        "id": "5lFJsirI1GXJ"
      },
      "source": [
        "**Creating Scatter Plots**\n",
        "* With Pyplot, you can use the scatter() function to draw a scatter plot.\n",
        "* The scatter() function plots one dot for each observation.\n",
        "* It needs two arrays of the same length, one for the values of the x-axis, and one for values on the y-axis:"
      ]
    },
    {
      "cell_type": "code",
      "metadata": {
        "id": "I4mqZH121kJ2"
      },
      "source": [
        "# A simple scatter plot:\n",
        "x = np.array([5,7,8,7,2,17,2,9,4,11,12,9,6])\n",
        "y = np.array([99,86,87,88,111,86,103,87,94,78,77,85,86])\n",
        "\n",
        "plt.scatter(x, y)\n",
        "plt.show()"
      ],
      "execution_count": null,
      "outputs": []
    },
    {
      "cell_type": "markdown",
      "metadata": {
        "id": "dgknST-c2FF_"
      },
      "source": [
        "**The observation in the example above is the result of 13 cars passing by.**\n",
        "* The X-axis shows how old the car is.\n",
        "* The Y-axis shows the speed of the car when it passes.\n",
        "* Are there any relationships between the observations?\n",
        "* It seems that the newer the car, the faster it drives, but that could be a coincidence, after all we only registered 13 cars."
      ]
    },
    {
      "cell_type": "markdown",
      "metadata": {
        "id": "2khRArEE2Ta-"
      },
      "source": [
        "**Compare Plots**\n",
        "* In the example above, there seems to be a relationship between speed and age, but what if we plot the observations from another day as well? Will the scatter plot tell us something else?\n"
      ]
    },
    {
      "cell_type": "code",
      "metadata": {
        "id": "1S8Uij0n2QQr"
      },
      "source": [
        "# Draw two plots on the same figure:\n",
        "\n",
        "# day one, the age and speed of 13 cars:\n",
        "x = np.array([5,7,8,7,2,17,2,9,4,11,12,9,6])\n",
        "y = np.array([99,86,87,88,111,86,103,87,94,78,77,85,86])\n",
        "plt.scatter(x, y)\n",
        "\n",
        "# day two, the age and speed of 15 cars:\n",
        "x = np.array([2,2,8,1,15,8,12,9,7,3,11,4,7,14,12])\n",
        "y = np.array([100,105,84,105,90,99,90,95,94,100,79,112,91,80,85])\n",
        "plt.scatter(x, y)\n",
        "\n",
        "plt.show()"
      ],
      "execution_count": null,
      "outputs": []
    },
    {
      "cell_type": "markdown",
      "metadata": {
        "id": "gwS-f8mT21ZJ"
      },
      "source": [
        "**Note:** The two plots are plotted with two different colors, by default blue and orange, you will learn how to change colors later in this chapter."
      ]
    },
    {
      "cell_type": "markdown",
      "metadata": {
        "id": "6oZp5sw529jb"
      },
      "source": [
        "**Colors**\n",
        "* You can set your own color for each scatter plot with the color or the c argument:"
      ]
    },
    {
      "cell_type": "code",
      "metadata": {
        "id": "j8O0nEAV23T2"
      },
      "source": [
        "# Set your own color of the markers:\n",
        "x = np.array([5,7,8,7,2,17,2,9,4,11,12,9,6])\n",
        "y = np.array([99,86,87,88,111,86,103,87,94,78,77,85,86])\n",
        "plt.scatter(x, y, color = 'hotpink')\n",
        "\n",
        "x = np.array([2,2,8,1,15,8,12,9,7,3,11,4,7,14,12])\n",
        "y = np.array([100,105,84,105,90,99,90,95,94,100,79,112,91,80,85])\n",
        "plt.scatter(x, y, color = '#88c999')\n",
        "\n",
        "plt.show()"
      ],
      "execution_count": null,
      "outputs": []
    },
    {
      "cell_type": "markdown",
      "metadata": {
        "id": "34gixcmv3yLL"
      },
      "source": [
        "**Color Each Dot**\n",
        "* You can even set a specific color for each dot by using an array of colors as value for the c argument:"
      ]
    },
    {
      "cell_type": "markdown",
      "metadata": {
        "id": "StbqgFTJ35Af"
      },
      "source": [
        "Note: You cannot use the color argument for this, only the c argument."
      ]
    },
    {
      "cell_type": "code",
      "metadata": {
        "id": "cXEfVTnz3-Tv"
      },
      "source": [
        "# Set your own color of the markers:\n",
        "x = np.array([5,7,8,7,2,17,2,9,4,11,12,9,6])\n",
        "y = np.array([99,86,87,88,111,86,103,87,94,78,77,85,86])\n",
        "colors = np.array([\"red\",\"green\",\"blue\",\"yellow\",\"pink\",\"black\",\"orange\",\"purple\",\"beige\",\"brown\",\"gray\",\"cyan\",\"magenta\"])\n",
        "\n",
        "plt.scatter(x, y, c=colors)\n",
        "\n",
        "plt.show()"
      ],
      "execution_count": null,
      "outputs": []
    },
    {
      "cell_type": "markdown",
      "metadata": {
        "id": "nUq_bqfL4PND"
      },
      "source": [
        "**ColorMap**\n",
        "* The Matplotlib module has a number of available colormaps.\n",
        "* A colormap is like a list of colors, where each color has a value that ranges from 0 to 100.\n",
        "* Here is an example of a colormap:"
      ]
    },
    {
      "cell_type": "markdown",
      "metadata": {
        "id": "lDBl-AfX4Wbj"
      },
      "source": [
        "![image.png](data:image/png;base64,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)"
      ]
    },
    {
      "cell_type": "markdown",
      "metadata": {
        "id": "1NatSNzK4dGK"
      },
      "source": [
        "This colormap is called 'viridis' and as you can see it ranges from 0, which is a purple color, and up to 100, which is a yellow color."
      ]
    },
    {
      "cell_type": "markdown",
      "metadata": {
        "id": "p6KfON6B4iGS"
      },
      "source": [
        "**How to Use the ColorMap**\n",
        "* You can specify the colormap with the keyword argument cmap with the value of the colormap, in this case 'viridis' which is one of the built-in colormaps available in Matplotlib.\n",
        "* In addition you have to create an array with values (from 0 to 100), one value for each of the point in the scatter plot:"
      ]
    },
    {
      "cell_type": "code",
      "metadata": {
        "id": "TWXCBv1M4b2N"
      },
      "source": [
        "# Create a color array, and specify a colormap in the scatter plot:\n",
        "x = np.array([5,7,8,7,2,17,2,9,4,11,12,9,6])\n",
        "y = np.array([99,86,87,88,111,86,103,87,94,78,77,85,86])\n",
        "colors = np.array([0, 10, 20, 30, 40, 45, 50, 55, 60, 70, 80, 90, 100])\n",
        "\n",
        "plt.scatter(x, y, c=colors, cmap='viridis')\n",
        "\n",
        "plt.show()"
      ],
      "execution_count": null,
      "outputs": []
    },
    {
      "cell_type": "markdown",
      "metadata": {
        "id": "lfQT94cq4612"
      },
      "source": [
        "You can include the colormap in the drawing by including the plt.colorbar() statement:"
      ]
    },
    {
      "cell_type": "code",
      "metadata": {
        "id": "TMLfGE1Q48Rf"
      },
      "source": [
        "# Include the actual colormap:\n",
        "x = np.array([5,7,8,7,2,17,2,9,4,11,12,9,6])\n",
        "y = np.array([99,86,87,88,111,86,103,87,94,78,77,85,86])\n",
        "colors = np.array([0, 10, 20, 30, 40, 45, 50, 55, 60, 70, 80, 90, 100])\n",
        "\n",
        "plt.scatter(x, y, c=colors, cmap='viridis')\n",
        "\n",
        "plt.colorbar()\n",
        "\n",
        "plt.show()"
      ],
      "execution_count": null,
      "outputs": []
    },
    {
      "cell_type": "markdown",
      "metadata": {
        "id": "U8VxPfZA54hW"
      },
      "source": [
        "**Size**\n",
        "* You can change the size of the dots with the s argument.\n",
        "* Just like colors, make sure the array for sizes has the same length as the arrays for the x- and y-axis:"
      ]
    },
    {
      "cell_type": "code",
      "metadata": {
        "id": "e18psc_059BW"
      },
      "source": [
        "# Set your own size for the markers:\n",
        "x = np.array([5,7,8,7,2,17,2,9,4,11,12,9,6])\n",
        "y = np.array([99,86,87,88,111,86,103,87,94,78,77,85,86])\n",
        "sizes = np.array([20,50,100,200,500,1000,60,90,10,300,600,800,75])\n",
        "\n",
        "plt.scatter(x, y, s=sizes)\n",
        "\n",
        "plt.show()"
      ],
      "execution_count": null,
      "outputs": []
    },
    {
      "cell_type": "markdown",
      "metadata": {
        "id": "uDRHrIR_6IAO"
      },
      "source": [
        "**Alpha**\n",
        "* You can adjust the transparency of the dots with the alpha argument.\n",
        "* Just like colors, make sure the array for sizes has the same length as the arrays for the x- and y-axis:"
      ]
    },
    {
      "cell_type": "code",
      "metadata": {
        "id": "yJH_DtVf6Na7"
      },
      "source": [
        "# Set your own size for the markers:\n",
        "x = np.array([5,7,8,7,2,17,2,9,4,11,12,9,6])\n",
        "y = np.array([99,86,87,88,111,86,103,87,94,78,77,85,86])\n",
        "sizes = np.array([20,50,100,200,500,1000,60,90,10,300,600,800,75])\n",
        "\n",
        "plt.scatter(x, y, s=sizes, alpha=0.5)\n",
        "\n",
        "plt.show()"
      ],
      "execution_count": null,
      "outputs": []
    },
    {
      "cell_type": "markdown",
      "metadata": {
        "id": "uYODaXDA6bHi"
      },
      "source": [
        "**Combine Color Size and Alpha**\n",
        "* You can combine a colormap with different sizes on the dots. This is best visualized if the dots are transparent:"
      ]
    },
    {
      "cell_type": "code",
      "metadata": {
        "id": "9mQQS01T6g8n"
      },
      "source": [
        "# Create random arrays with 100 values for x-points, y-points, colors and sizes:\n",
        "x = np.random.randint(100, size=(100))\n",
        "y = np.random.randint(100, size=(100))\n",
        "colors = np.random.randint(100, size=(100))\n",
        "sizes = 10 * np.random.randint(100, size=(100))\n",
        "\n",
        "plt.scatter(x, y, c=colors, s=sizes, alpha=0.5, cmap='nipy_spectral')\n",
        "\n",
        "plt.colorbar()\n",
        "\n",
        "plt.show()"
      ],
      "execution_count": null,
      "outputs": []
    },
    {
      "cell_type": "markdown",
      "metadata": {
        "id": "EGKT9mJC6uUA"
      },
      "source": [
        "# **Matplotlib Bars**"
      ]
    },
    {
      "cell_type": "markdown",
      "metadata": {
        "id": "UL71laqS6yJw"
      },
      "source": [
        "**Creating Bars**\n",
        "* With Pyplot, you can use the bar() function to draw bar graphs:"
      ]
    },
    {
      "cell_type": "code",
      "metadata": {
        "id": "MXPegyzb6xND"
      },
      "source": [
        "# Draw 4 bars:\n",
        "x = np.array([\"A\", \"B\", \"C\", \"D\"])\n",
        "y = np.array([3, 8, 1, 10])\n",
        "\n",
        "plt.bar(x,y)\n",
        "plt.show()"
      ],
      "execution_count": null,
      "outputs": []
    },
    {
      "cell_type": "markdown",
      "metadata": {
        "id": "A0DltdNe7DmM"
      },
      "source": [
        "* The bar() function takes arguments that describes the layout of the bars.\n",
        "* The categories and their values represented by the first and second argument as arrays."
      ]
    },
    {
      "cell_type": "code",
      "metadata": {
        "id": "8DYEtvhz7IBV"
      },
      "source": [
        "x = [\"APPLES\", \"BANANAS\"]\n",
        "y = [400, 350]\n",
        "plt.bar(x, y)"
      ],
      "execution_count": null,
      "outputs": []
    },
    {
      "cell_type": "markdown",
      "metadata": {
        "id": "iU7hJ7Do7Tg1"
      },
      "source": [
        "**Horizontal Bars**\n",
        "* If you want the bars to be displayed horizontally instead of vertically, use the barh() function:"
      ]
    },
    {
      "cell_type": "code",
      "metadata": {
        "id": "P1CNAJhr7WQg"
      },
      "source": [
        "# Draw 4 horizontal bars:\n",
        "x = np.array([\"A\", \"B\", \"C\", \"D\"])\n",
        "y = np.array([3, 8, 1, 10])\n",
        "\n",
        "plt.barh(x, y)\n",
        "plt.show()"
      ],
      "execution_count": null,
      "outputs": []
    },
    {
      "cell_type": "markdown",
      "metadata": {
        "id": "7tfawhwp7g1L"
      },
      "source": [
        "**Bar Color**\n",
        "* The bar() and barh() takes the keyword argument color to set the color of the bars:"
      ]
    },
    {
      "cell_type": "code",
      "metadata": {
        "id": "UfxqkG367kMH"
      },
      "source": [
        "# Draw 4 red bars:\n",
        "x = np.array([\"A\", \"B\", \"C\", \"D\"])\n",
        "y = np.array([3, 8, 1, 10])\n",
        "\n",
        "plt.bar(x, y, color = \"red\")\n",
        "plt.show()"
      ],
      "execution_count": null,
      "outputs": []
    },
    {
      "cell_type": "markdown",
      "metadata": {
        "id": "SZmMXuDr7w1u"
      },
      "source": [
        "**Color Names**\n",
        "* You can use any of the 140 supported color names."
      ]
    },
    {
      "cell_type": "code",
      "metadata": {
        "id": "kSFOqRmd7zpz"
      },
      "source": [
        "# Draw 4 \"hot pink\" bars:\n",
        "x = np.array([\"A\", \"B\", \"C\", \"D\"])\n",
        "y = np.array([3, 8, 1, 10])\n",
        "\n",
        "plt.bar(x, y, color = \"hotpink\")\n",
        "plt.show()"
      ],
      "execution_count": null,
      "outputs": []
    },
    {
      "cell_type": "markdown",
      "metadata": {
        "id": "wXIisAvy8GO2"
      },
      "source": [
        "**Color Hex**\n",
        "* Or you can use Hexadecimal color values:"
      ]
    },
    {
      "cell_type": "code",
      "metadata": {
        "id": "Ef2--OmG8Dod"
      },
      "source": [
        "# Draw 4 bars with a beautiful green color:\n",
        "x = np.array([\"A\", \"B\", \"C\", \"D\"])\n",
        "y = np.array([3, 8, 1, 10])\n",
        "\n",
        "plt.bar(x, y, color = \"#4CAF50\")\n",
        "plt.show()"
      ],
      "execution_count": null,
      "outputs": []
    },
    {
      "cell_type": "markdown",
      "metadata": {
        "id": "aks1mz4m8U6h"
      },
      "source": [
        "**Bar Width**\n",
        "* The bar() takes the keyword argument width to set the width of the bars:\n",
        "* The default width value is 0.8"
      ]
    },
    {
      "cell_type": "code",
      "metadata": {
        "id": "ElvpGMoM8XZ6"
      },
      "source": [
        "# Draw 4 very thin bars:\n",
        "x = np.array([\"A\", \"B\", \"C\", \"D\"])\n",
        "y = np.array([3, 8, 1, 10])\n",
        "\n",
        "plt.bar(x, y, width = 0.1)\n",
        "plt.show()"
      ],
      "execution_count": null,
      "outputs": []
    },
    {
      "cell_type": "markdown",
      "metadata": {
        "id": "-jxgtm1l8kWa"
      },
      "source": [
        "**Note:** For horizontal bars, use height instead of width."
      ]
    },
    {
      "cell_type": "markdown",
      "metadata": {
        "id": "mKJANyiX8sn-"
      },
      "source": [
        "**Bar Height**\n",
        "* The barh() takes the keyword argument height to set the height of the bars:\n",
        "* The default height value is 0.8"
      ]
    },
    {
      "cell_type": "code",
      "metadata": {
        "id": "UnC4Tp568qEC"
      },
      "source": [
        "# Draw 4 very thin bars:\n",
        "x = np.array([\"A\", \"B\", \"C\", \"D\"])\n",
        "y = np.array([3, 8, 1, 10])\n",
        "\n",
        "plt.barh(x, y, height = 0.1)\n",
        "plt.show()"
      ],
      "execution_count": null,
      "outputs": []
    },
    {
      "cell_type": "markdown",
      "metadata": {
        "id": "66Et0_609BvG"
      },
      "source": [
        "# **Matplotlib Histograms**"
      ]
    },
    {
      "cell_type": "markdown",
      "metadata": {
        "id": "7ggsx75A9E0-"
      },
      "source": [
        "**Histogram**\n",
        "* A histogram is a graph showing frequency distributions.\n",
        "* It is a graph showing the number of observations within each given interval.\n",
        "* Example: Say you ask for the height of 250 people, you might end up with a histogram like this:"
      ]
    },
    {
      "cell_type": "markdown",
      "metadata": {
        "id": "Ju9uLVmi9X4-"
      },
      "source": [
        "![image.png](data:image/png;base64,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)"
      ]
    },
    {
      "cell_type": "markdown",
      "metadata": {
        "id": "9WqB35N99Y56"
      },
      "source": [
        "You can read from the histogram that there are approximately:\n",
        "* 2 people from 140 to 145cm\n",
        "* 5 people from 145 to 150cm\n",
        "* 15 people from 151 to 156cm\n",
        "* 31 people from 157 to 162cm\n",
        "* 46 people from 163 to 168cm\n",
        "* 53 people from 168 to 173cm\n",
        "* 45 people from 173 to 178cm\n",
        "* 28 people from 179 to 184cm\n",
        "* 21 people from 185 to 190cm\n",
        "* 4 people from 190 to 195cm\n",
        "\n"
      ]
    },
    {
      "cell_type": "markdown",
      "metadata": {
        "id": "wsE05UCo91Oh"
      },
      "source": [
        "**Create Histogram**\n",
        "* In Matplotlib, we use the hist() function to create histograms.\n",
        "* The hist() function will use an array of numbers to create a histogram, the array is sent into the function as an argument.\n",
        "* For simplicity we use NumPy to randomly generate an array with 250 values, where the values will concentrate around 170, and the standard deviation is 10. Learn more about Normal Data Distribution in our Machine Learning Tutorial."
      ]
    },
    {
      "cell_type": "code",
      "metadata": {
        "id": "zeW3MIQK9D5Q"
      },
      "source": [
        "# A Normal Data Distribution by NumPy:\n",
        "x = np.random.normal(170, 10, 250)\n",
        "print(x)"
      ],
      "execution_count": null,
      "outputs": []
    },
    {
      "cell_type": "markdown",
      "metadata": {
        "id": "lsu7kdrY-WdD"
      },
      "source": [
        "The hist() function will read the array and produce a histogram:"
      ]
    },
    {
      "cell_type": "code",
      "metadata": {
        "id": "cppQJo8S-atm"
      },
      "source": [
        "# A simple histogram:\n",
        "x = np.random.normal(170, 10, 250)\n",
        "\n",
        "plt.hist(x)\n",
        "plt.show() "
      ],
      "execution_count": null,
      "outputs": []
    },
    {
      "cell_type": "markdown",
      "metadata": {
        "id": "BviIE54b-lIE"
      },
      "source": [
        "# **Matplotlib Pie Charts**"
      ]
    },
    {
      "cell_type": "markdown",
      "metadata": {
        "id": "wCOHN3-K-oBJ"
      },
      "source": [
        "**Creating Pie Charts**\n",
        "* With Pyplot, you can use the pie() function to draw pie charts:"
      ]
    },
    {
      "cell_type": "code",
      "metadata": {
        "id": "9VQGxPMo-tc1"
      },
      "source": [
        "# Simple Pie Chart\n",
        "y = np.array([35, 25, 25, 15])\n",
        "\n",
        "plt.pie(y)\n",
        "plt.show() "
      ],
      "execution_count": null,
      "outputs": []
    },
    {
      "cell_type": "markdown",
      "metadata": {
        "id": "xEhGokRR-7Tg"
      },
      "source": [
        "* As you can see the pie chart draws one piece (called a wedge) for each value in the array (in this case [35, 25, 25, 15]).\n",
        "* By default the plotting of the first wedge starts from the x-axis and move counterclockwise:"
      ]
    },
    {
      "cell_type": "markdown",
      "metadata": {
        "id": "ptISz34I_Gjt"
      },
      "source": [
        "**Note:** \n",
        "* The size of each wedge is determined by comparing the value with all the other values, by using this formula:\n",
        "* The value divided by the sum of all values: x/sum(x)"
      ]
    },
    {
      "cell_type": "markdown",
      "metadata": {
        "id": "prUyApDJ_UWY"
      },
      "source": [
        "**Labels**\n",
        "* Add labels to the pie chart with the label parameter.\n",
        "* The label parameter must be an array with one label for each wedge:"
      ]
    },
    {
      "cell_type": "code",
      "metadata": {
        "id": "SEfEp5x1_C78"
      },
      "source": [
        "# A simple pie chart:\n",
        "y = np.array([35, 25, 25, 15])\n",
        "mylabels = [\"Apples\", \"Bananas\", \"Cherries\", \"Dates\"]\n",
        "\n",
        "plt.pie(y, labels = mylabels)\n",
        "plt.show() "
      ],
      "execution_count": null,
      "outputs": []
    },
    {
      "cell_type": "markdown",
      "metadata": {
        "id": "KmQFVXfA_vT0"
      },
      "source": [
        "**Start Angle**\n",
        "* As mentioned the default start angle is at the x-axis, but you can change the start angle by specifying a startangle parameter.\n",
        "* The startangle parameter is defined with an angle in degrees, default angle is 0:\n",
        "\n",
        "![image.png](data:image/png;base64,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)\n",
        "\n"
      ]
    },
    {
      "cell_type": "code",
      "metadata": {
        "id": "buc7MJGI_-2j"
      },
      "source": [
        "# Start the first wedge at 90 degrees:\n",
        "y = np.array([35, 25, 25, 15])\n",
        "mylabels = [\"Apples\", \"Bananas\", \"Cherries\", \"Dates\"]\n",
        "\n",
        "plt.pie(y, labels = mylabels, startangle = 90)\n",
        "plt.show()"
      ],
      "execution_count": null,
      "outputs": []
    },
    {
      "cell_type": "markdown",
      "metadata": {
        "id": "3qEwQHQqANbZ"
      },
      "source": [
        "**Explode**\n",
        "* Maybe you want one of the wedges to stand out? The explode parameter allows you to do that.\n",
        "* The explode parameter, if specified, and not None, must be an array with one value for each wedge.\n",
        "* Each value represents how far from the center each wedge is displayed:"
      ]
    },
    {
      "cell_type": "code",
      "metadata": {
        "id": "Xak-TCau_3ET"
      },
      "source": [
        "# Pull the \"Apples\" wedge 0.2 from the center of the pie:\n",
        "y = np.array([35, 25, 25, 15])\n",
        "mylabels = [\"Apples\", \"Bananas\", \"Cherries\", \"Dates\"]\n",
        "myexplode = [0.2, 0, 0, 0]\n",
        "\n",
        "plt.pie(y, labels = mylabels, explode = myexplode)\n",
        "plt.show() "
      ],
      "execution_count": null,
      "outputs": []
    },
    {
      "cell_type": "markdown",
      "metadata": {
        "id": "Rp0W_aNMAqfZ"
      },
      "source": [
        "**Shadow**\n",
        "* Add a shadow to the pie chart by setting the shadows parameter to True:"
      ]
    },
    {
      "cell_type": "code",
      "metadata": {
        "id": "-X5W50DlAtiy"
      },
      "source": [
        "# Add a shadow:\n",
        "y = np.array([35, 25, 25, 15])\n",
        "mylabels = [\"Apples\", \"Bananas\", \"Cherries\", \"Dates\"]\n",
        "myexplode = [0.2, 0, 0, 0]\n",
        "\n",
        "plt.pie(y, labels = mylabels, explode = myexplode, shadow = True)\n",
        "plt.show()"
      ],
      "execution_count": null,
      "outputs": []
    },
    {
      "cell_type": "markdown",
      "metadata": {
        "id": "llQzSeXMA46I"
      },
      "source": [
        "**Colors**\n",
        "* You can set the color of each wedge with the colors parameter.\n",
        "* The colors parameter, if specified, must be an array with one value for each wedge:"
      ]
    },
    {
      "cell_type": "code",
      "metadata": {
        "id": "T2UT5aG3A8fw"
      },
      "source": [
        "y = np.array([35, 25, 25, 15])\n",
        "mylabels = [\"Apples\", \"Bananas\", \"Cherries\", \"Dates\"]\n",
        "mycolors = [\"black\", \"hotpink\", \"b\", \"#4CAF50\"]\n",
        "\n",
        "plt.pie(y, labels = mylabels, colors = mycolors)\n",
        "plt.show() "
      ],
      "execution_count": null,
      "outputs": []
    },
    {
      "cell_type": "markdown",
      "metadata": {
        "id": "crnPef_JJPNK"
      },
      "source": [
        "You can use Hexadecimal color values, any of the 140 supported color names, or one of these shortcuts:\n",
        "* 'r' - Red\n",
        "* 'g' - Green\n",
        "* 'b' - Blue\n",
        "* 'c' - Cyan\n",
        "* 'm' - Magenta\n",
        "* 'y' - Yellow\n",
        "* 'k' - Black\n",
        "* 'w' - White"
      ]
    },
    {
      "cell_type": "markdown",
      "metadata": {
        "id": "CgdPt4owJltK"
      },
      "source": [
        "**Legend**\n",
        "* To add a list of explanation for each wedge, use the legend() function:"
      ]
    },
    {
      "cell_type": "code",
      "metadata": {
        "id": "H8y0ZuFuJiS0"
      },
      "source": [
        "# Add a legend:\n",
        "y = np.array([35, 25, 25, 15])\n",
        "mylabels = [\"Apples\", \"Bananas\", \"Cherries\", \"Dates\"]\n",
        "\n",
        "plt.pie(y, labels = mylabels)\n",
        "plt.legend()\n",
        "plt.show() "
      ],
      "execution_count": null,
      "outputs": []
    },
    {
      "cell_type": "markdown",
      "metadata": {
        "id": "wjBSrPatJy3T"
      },
      "source": [
        "**Legend With Header**\n",
        "* To add a header to the legend, add the title parameter to the legend function."
      ]
    },
    {
      "cell_type": "code",
      "metadata": {
        "id": "BmTHp3J9J1zy"
      },
      "source": [
        "# Add a legend with a header:\n",
        "y = np.array([35, 25, 25, 15])\n",
        "mylabels = [\"Apples\", \"Bananas\", \"Cherries\", \"Dates\"]\n",
        "\n",
        "plt.pie(y, labels = mylabels)\n",
        "plt.legend(title = \"Four Fruits:\")\n",
        "plt.show() "
      ],
      "execution_count": null,
      "outputs": []
    },
    {
      "cell_type": "markdown",
      "metadata": {
        "id": "vuIeHv7OLplv"
      },
      "source": [
        "# **3-D Plot**"
      ]
    },
    {
      "cell_type": "code",
      "metadata": {
        "id": "_ypeVJy4J2Go"
      },
      "source": [
        "from mpl_toolkits.mplot3d import Axes3D"
      ],
      "execution_count": null,
      "outputs": []
    },
    {
      "cell_type": "code",
      "metadata": {
        "id": "VIumBZyVL3vI"
      },
      "source": [
        "# 3-D Scater Plot\n",
        "\n",
        "fig = plt.figure()\n",
        "ax = fig.add_subplot(111, projection='3d')\n",
        "\n",
        "x =[1,2,3,4,5,6,7,8,9,10]\n",
        "y =[5,6,2,3,13,4,1,2,4,8]\n",
        "z =[2,3,3,3,5,7,9,11,9,10]\n",
        "\n",
        "\n",
        "\n",
        "ax.scatter(x, y, z, c='r', marker='o')\n",
        "\n",
        "ax.set_xlabel('X Label')\n",
        "ax.set_ylabel('Y Label')\n",
        "ax.set_zlabel('Z Label')\n",
        "\n",
        "plt.show()"
      ],
      "execution_count": null,
      "outputs": []
    }
  ]
}