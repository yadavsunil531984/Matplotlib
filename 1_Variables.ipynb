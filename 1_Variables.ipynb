{
  "nbformat": 4,
  "nbformat_minor": 0,
  "metadata": {
    "colab": {
      "name": "1. Variables.ipynb",
      "provenance": [],
      "collapsed_sections": [],
      "authorship_tag": "ABX9TyN0MIRtnHIsVvfNTcDc/wxn",
      "include_colab_link": true
    },
    "kernelspec": {
      "name": "python3",
      "display_name": "Python 3"
    },
    "language_info": {
      "name": "python"
    }
  },
  "cells": [
    {
      "cell_type": "markdown",
      "metadata": {
        "id": "view-in-github",
        "colab_type": "text"
      },
      "source": [
        "<a href=\"https://colab.research.google.com/github/yadavsunil531984/Matplotlib/blob/main/1_Variables.ipynb\" target=\"_parent\"><img src=\"https://colab.research.google.com/assets/colab-badge.svg\" alt=\"Open In Colab\"/></a>"
      ]
    },
    {
      "cell_type": "markdown",
      "metadata": {
        "id": "75BtTILJlVb0"
      },
      "source": [
        "# **Python as Calculator**"
      ]
    },
    {
      "cell_type": "markdown",
      "metadata": {
        "id": "WS35vVxw59zO"
      },
      "source": [
        "####**1. Addition**"
      ]
    },
    {
      "cell_type": "code",
      "metadata": {
        "id": "pogdfZBg46mH"
      },
      "source": [
        "2+3"
      ],
      "execution_count": null,
      "outputs": []
    },
    {
      "cell_type": "markdown",
      "metadata": {
        "id": "HcWaW9jy6Bim"
      },
      "source": [
        "####**2.Subtraction**"
      ]
    },
    {
      "cell_type": "code",
      "metadata": {
        "id": "LhUtcXYY49Xg"
      },
      "source": [
        "5-2"
      ],
      "execution_count": null,
      "outputs": []
    },
    {
      "cell_type": "markdown",
      "metadata": {
        "id": "7wIjfOJR6KXa"
      },
      "source": [
        "####**3.Multiplication**"
      ]
    },
    {
      "cell_type": "code",
      "metadata": {
        "id": "pGJBkm2B4_V3"
      },
      "source": [
        "5*2"
      ],
      "execution_count": null,
      "outputs": []
    },
    {
      "cell_type": "markdown",
      "metadata": {
        "id": "m2WwMuAP672o"
      },
      "source": [
        "####**4.Division**"
      ]
    },
    {
      "cell_type": "code",
      "metadata": {
        "id": "PKLsoi705EXD"
      },
      "source": [
        "5/2"
      ],
      "execution_count": null,
      "outputs": []
    },
    {
      "cell_type": "markdown",
      "metadata": {
        "id": "CKN1p5w77QGz"
      },
      "source": [
        "####**5.Power of Number**"
      ]
    },
    {
      "cell_type": "code",
      "metadata": {
        "id": "vxGluTtz5Hdf"
      },
      "source": [
        "5**2"
      ],
      "execution_count": null,
      "outputs": []
    },
    {
      "cell_type": "code",
      "metadata": {
        "id": "a6YR6AtN5MaH"
      },
      "source": [
        "5**3"
      ],
      "execution_count": null,
      "outputs": []
    },
    {
      "cell_type": "code",
      "metadata": {
        "id": "d0drSoIW5dIq"
      },
      "source": [
        "5**4"
      ],
      "execution_count": null,
      "outputs": []
    },
    {
      "cell_type": "markdown",
      "metadata": {
        "id": "uh9js2tw7HDx"
      },
      "source": [
        "####**6.Modulus of Number**"
      ]
    },
    {
      "cell_type": "code",
      "metadata": {
        "id": "qTKngh5i50_d"
      },
      "source": [
        "15%2"
      ],
      "execution_count": null,
      "outputs": []
    },
    {
      "cell_type": "code",
      "metadata": {
        "id": "BFTE2BiV549v"
      },
      "source": [
        "18%4"
      ],
      "execution_count": null,
      "outputs": []
    },
    {
      "cell_type": "markdown",
      "metadata": {
        "id": "0sSnyZZy7c5Q"
      },
      "source": [
        "# **Print Statement in Python**"
      ]
    },
    {
      "cell_type": "code",
      "metadata": {
        "id": "MpDro7IQ7oVH"
      },
      "source": [
        "print(\"Hello World !\")"
      ],
      "execution_count": null,
      "outputs": []
    },
    {
      "cell_type": "code",
      "metadata": {
        "id": "NMU8jBsE73Jn"
      },
      "source": [
        "print('Hello Word !')"
      ],
      "execution_count": null,
      "outputs": []
    },
    {
      "cell_type": "code",
      "metadata": {
        "id": "ixu1t-9B8B4c"
      },
      "source": [
        "print(5)"
      ],
      "execution_count": null,
      "outputs": []
    },
    {
      "cell_type": "markdown",
      "metadata": {
        "id": "z5Il4Vhc4uGC"
      },
      "source": [
        "# **Python Variables**"
      ]
    },
    {
      "cell_type": "markdown",
      "metadata": {
        "id": "TLfnm1K6lang"
      },
      "source": [
        "## Variables\n",
        "Variables are containers for storing data values."
      ]
    },
    {
      "cell_type": "markdown",
      "metadata": {
        "id": "FIT3mw0qlh1J"
      },
      "source": [
        "## Creating Variables\n",
        "* Python has no command for declaring a variable.\n",
        "* A variable is created the moment you first assign a value to it.\n",
        "* Variables do not need to be declared with any particular type, and can even change type after they have been set.\n"
      ]
    },
    {
      "cell_type": "code",
      "metadata": {
        "id": "c9eqaz9Klvjj"
      },
      "source": [
        "x = 5\n",
        "y = \"John\"\n",
        "print(x)\n",
        "print(y)"
      ],
      "execution_count": null,
      "outputs": []
    },
    {
      "cell_type": "markdown",
      "metadata": {
        "id": "5BVHHPTKmIoG"
      },
      "source": [
        "## Casting\n",
        "If you want to specify the data type of a variable, this can be done with casting."
      ]
    },
    {
      "cell_type": "code",
      "metadata": {
        "id": "fJ-apzqumOX4"
      },
      "source": [
        "x = str(3)    # x will be '3'\n",
        "y = int(3)    # y will be 3\n",
        "z = float(3)  # z will be 3.0"
      ],
      "execution_count": null,
      "outputs": []
    },
    {
      "cell_type": "markdown",
      "metadata": {
        "id": "WV5FfG0nnGOw"
      },
      "source": [
        "## Get the Type\n",
        "* You can get the data type of a variable with the type() function."
      ]
    },
    {
      "cell_type": "code",
      "metadata": {
        "id": "oFf7DivtnFK-"
      },
      "source": [
        "x = 5\n",
        "y = \"John\"\n",
        "print(type(x))\n",
        "print(type(y))"
      ],
      "execution_count": null,
      "outputs": []
    },
    {
      "cell_type": "markdown",
      "metadata": {
        "id": "JxTdE35EnTe8"
      },
      "source": [
        "## Single or Double Quotes?\n",
        "* String variables can be declared either by using single or double quotes:"
      ]
    },
    {
      "cell_type": "code",
      "metadata": {
        "id": "XNui9wNsnW_r"
      },
      "source": [
        "x = \"John\"\n",
        "x = 'John'\n",
        "# both the statements are same"
      ],
      "execution_count": null,
      "outputs": []
    },
    {
      "cell_type": "markdown",
      "metadata": {
        "id": "scKeRzFfnktf"
      },
      "source": [
        "## Case-Sensitive\n",
        "* Variable names are case-sensitive."
      ]
    },
    {
      "cell_type": "code",
      "metadata": {
        "id": "0lYL53LUnn33"
      },
      "source": [
        "a = 4\n",
        "A = \"Sun\"\n",
        "# A will not overwrite a"
      ],
      "execution_count": null,
      "outputs": []
    },
    {
      "cell_type": "markdown",
      "metadata": {
        "id": "Axd90ZTkn11P"
      },
      "source": [
        "# **Python - Variable Names**"
      ]
    },
    {
      "cell_type": "markdown",
      "metadata": {
        "id": "dgJ4vK5Nn7d7"
      },
      "source": [
        "## Variable Names\n",
        "* A variable can have a short name (like x and y) or a more descriptive name (age, carname, total_volume). "
      ]
    },
    {
      "cell_type": "markdown",
      "metadata": {
        "id": "oJyoo1sToLJq"
      },
      "source": [
        "## Rules for Python variables:"
      ]
    },
    {
      "cell_type": "markdown",
      "metadata": {
        "id": "AItVVpxY23Hs"
      },
      "source": [
        "* A variable name must start with a letter or the underscore character\n",
        "* A variable name cannot start with a number\n",
        "* A variable name can only contain alpha-numeric characters and underscores (A-z, 0-9, and _ )\n",
        "* Variable names are case-sensitive (age, Age and AGE are three different variables)\n",
        "* Remember that variable names are case-sensitive"
      ]
    },
    {
      "cell_type": "code",
      "metadata": {
        "id": "aGsCOCc_n40v"
      },
      "source": [
        "# Legal variable names:\n",
        "myvar = \"Sun\"\n",
        "my_var = \"Sun\"\n",
        "_my_var = \"Sun\"\n",
        "myVar = \"Sun\"\n",
        "MYVAR = \"Sun\"\n",
        "myvar2 = \"Sun\""
      ],
      "execution_count": null,
      "outputs": []
    },
    {
      "cell_type": "code",
      "metadata": {
        "id": "aoo0O5blovUl"
      },
      "source": [
        "# Illegal variable names:\n",
        "2myvar = \"John\"\n",
        "my-var = \"John\"\n",
        "my var = \"John"
      ],
      "execution_count": null,
      "outputs": []
    },
    {
      "cell_type": "markdown",
      "metadata": {
        "id": "gztvXQS5pBrV"
      },
      "source": [
        "# **Multi Words Variable Names**"
      ]
    },
    {
      "cell_type": "markdown",
      "metadata": {
        "id": "Kv3BK6xUpHhM"
      },
      "source": [
        "* Variable names with more than one word can be difficult to read.\n",
        "* There are several techniques you can use to make them more readable:"
      ]
    },
    {
      "cell_type": "markdown",
      "metadata": {
        "id": "vh41Fo3MpOVr"
      },
      "source": [
        "## 1.Camel Case\n",
        "* Each word, except the first, starts with a capital letter:"
      ]
    },
    {
      "cell_type": "code",
      "metadata": {
        "id": "C5IWfSJJpNbc"
      },
      "source": [
        "myVariableName = \"John\""
      ],
      "execution_count": null,
      "outputs": []
    },
    {
      "cell_type": "markdown",
      "metadata": {
        "id": "iXZ1znknpaUI"
      },
      "source": [
        "## 2.Pascal Case\n",
        "* Each word starts with a capital letter:"
      ]
    },
    {
      "cell_type": "code",
      "metadata": {
        "id": "lGuK10J6pfVn"
      },
      "source": [
        "MyVariableName = \"John\""
      ],
      "execution_count": null,
      "outputs": []
    },
    {
      "cell_type": "markdown",
      "metadata": {
        "id": "giZgaK2EpkTu"
      },
      "source": [
        "## 3.Snake Case\n",
        "* Each word is separated by an underscore character:"
      ]
    },
    {
      "cell_type": "code",
      "metadata": {
        "id": "nFLjumLJppTk"
      },
      "source": [
        "my_variable_name = \"John\""
      ],
      "execution_count": null,
      "outputs": []
    },
    {
      "cell_type": "markdown",
      "metadata": {
        "id": "UrF73K7-p3Ge"
      },
      "source": [
        "# **Python Variables - Assign Multiple Values**"
      ]
    },
    {
      "cell_type": "markdown",
      "metadata": {
        "id": "2XaN0RAMp-WH"
      },
      "source": [
        "## Many Values to Multiple Variables\n",
        "* Python allows you to assign values to multiple variables in one line:"
      ]
    },
    {
      "cell_type": "code",
      "metadata": {
        "colab": {
          "base_uri": "https://localhost:8080/"
        },
        "id": "9aopPhHPp7Gn",
        "outputId": "06675802-2ad8-43c3-b472-c1bd61aa941b"
      },
      "source": [
        "x, y, z = \"Leap\", \"March\", \"Mon\"\n",
        "print(x)\n",
        "print(y)\n",
        "print(z)"
      ],
      "execution_count": null,
      "outputs": [
        {
          "output_type": "stream",
          "name": "stdout",
          "text": [
            "Leap\n",
            "March\n",
            "Mon\n"
          ]
        }
      ]
    },
    {
      "cell_type": "markdown",
      "metadata": {
        "id": "urXdOejVqhKJ"
      },
      "source": [
        "## One Value to Multiple Variables\n",
        "* And you can assign the same value to multiple variables in one line:"
      ]
    },
    {
      "cell_type": "code",
      "metadata": {
        "colab": {
          "base_uri": "https://localhost:8080/"
        },
        "id": "6CYLlB8TqkMt",
        "outputId": "2b105cf3-e9d0-43dc-e9a2-8bea2b074669"
      },
      "source": [
        "x = y = z = \"Mon\"\n",
        "print(x)\n",
        "print(y)\n",
        "print(z)"
      ],
      "execution_count": null,
      "outputs": [
        {
          "output_type": "stream",
          "name": "stdout",
          "text": [
            "Mon\n",
            "Mon\n",
            "Mon\n"
          ]
        }
      ]
    },
    {
      "cell_type": "markdown",
      "metadata": {
        "id": "xMSf_zXIqtPs"
      },
      "source": [
        "## Unpack a Collection\n",
        "* If you have a collection of values in a list, tuple etc. Python allows you extract the values into variables. This is called unpacking."
      ]
    },
    {
      "cell_type": "code",
      "metadata": {
        "id": "KN0q3bNZqwJs"
      },
      "source": [
        "# Unpack a list:\n",
        "days = [\"Mon\", \"Tue\", \"Wed\"]\n",
        "x, y, z = days\n",
        "print(x)\n",
        "print(y)\n",
        "print(z)"
      ],
      "execution_count": null,
      "outputs": []
    },
    {
      "cell_type": "markdown",
      "metadata": {
        "id": "bzvYluq-rDWo"
      },
      "source": [
        "# **Python - Output Variables**"
      ]
    },
    {
      "cell_type": "markdown",
      "metadata": {
        "id": "SPjlisXsrL8u"
      },
      "source": [
        "## Output Variables\n",
        "* The Python print statement is often used to output variables.\n",
        "* To combine both text and a variable, Python uses the + character:"
      ]
    },
    {
      "cell_type": "code",
      "metadata": {
        "id": "bd2TRhBzrbyZ"
      },
      "source": [
        "x = \"Programming Language\"\n",
        "print(\"Python is \" + x)"
      ],
      "execution_count": null,
      "outputs": []
    },
    {
      "cell_type": "markdown",
      "metadata": {
        "id": "Xf72MhZsrqtz"
      },
      "source": [
        "You can also use the + character to add a variable to another variable:"
      ]
    },
    {
      "cell_type": "code",
      "metadata": {
        "id": "abamkNOurqGO"
      },
      "source": [
        "x = \"Python is \"\n",
        "y = \"Programming Language\"\n",
        "z =  x + y\n",
        "print(z)"
      ],
      "execution_count": null,
      "outputs": []
    },
    {
      "cell_type": "markdown",
      "metadata": {
        "id": "NrH--lIzryKP"
      },
      "source": [
        "For numbers, the + character works as a mathematical operator:"
      ]
    },
    {
      "cell_type": "code",
      "metadata": {
        "id": "Kip2EbDIrzC_"
      },
      "source": [
        "x = 5\n",
        "y = 10\n",
        "print(x + y)"
      ],
      "execution_count": null,
      "outputs": []
    },
    {
      "cell_type": "markdown",
      "metadata": {
        "id": "ypfO7o6Ar4Bk"
      },
      "source": [
        "If you try to combine a string and a number, Python will give you an error:"
      ]
    },
    {
      "cell_type": "code",
      "metadata": {
        "id": "tIlzf0NHr7Vz"
      },
      "source": [
        "x = 5\n",
        "y = \"John\"\n",
        "print(x + y)"
      ],
      "execution_count": null,
      "outputs": []
    },
    {
      "cell_type": "markdown",
      "metadata": {
        "id": "XT8BLTccsxWo"
      },
      "source": [
        "# **Python - Global Variables**"
      ]
    },
    {
      "cell_type": "markdown",
      "metadata": {
        "id": "lyIj2T-Ns5N-"
      },
      "source": [
        "## Global Variables\n",
        "* Variables that are created outside of a function (as in all of the examples above) are known as global variables.\n",
        "* Global variables can be used by everyone, both inside of functions and outside."
      ]
    },
    {
      "cell_type": "code",
      "metadata": {
        "id": "g7YYvlO2tD5z"
      },
      "source": [
        "# Create a variable outside of a function, and use it inside the function\n",
        "\n",
        "x = 2\n",
        "def myfunc():\n",
        "  print(\"x : \", x)\n",
        "\n",
        "myfunc()"
      ],
      "execution_count": null,
      "outputs": []
    },
    {
      "cell_type": "markdown",
      "metadata": {
        "id": "HqtYsDH5tlVs"
      },
      "source": [
        "If you create a variable with the same name inside a function, this variable will be local, and can only be used inside the function. The global variable with the same name will remain as it was, global and with the original value."
      ]
    },
    {
      "cell_type": "code",
      "metadata": {
        "id": "rbh3AC7Ktmqv"
      },
      "source": [
        "# Create a variable inside a function, with the same name as the global variable\n",
        "x = 2\n",
        "def myfunc():\n",
        "  x = 3\n",
        "  print(\"x : \", x)\n",
        "\n",
        "myfunc()\n",
        "\n",
        "print(\"x: \", x)"
      ],
      "execution_count": null,
      "outputs": []
    },
    {
      "cell_type": "code",
      "metadata": {
        "id": "rqGF3Raa64tw"
      },
      "source": [
        "# Local variables can not be called outside the function\n",
        "\n",
        "def myfunc():\n",
        "  x = 3\n",
        "  print(\"x : \", x)\n",
        "\n",
        "myfunc()\n",
        "\n",
        "print(\"x: \", x)"
      ],
      "execution_count": null,
      "outputs": []
    },
    {
      "cell_type": "markdown",
      "metadata": {
        "id": "UXSQrfX5vm1P"
      },
      "source": [
        "## The global Keyword\n",
        "* Normally, when you create a variable inside a function, that variable is local, and can only be used inside that function.\n",
        "* To create a global variable inside a function, you can use the global keyword."
      ]
    },
    {
      "cell_type": "code",
      "metadata": {
        "id": "GNONWt1MvsDF"
      },
      "source": [
        "# If you use the global keyword, the variable belongs to the global scope:\n",
        "\n",
        "def myfunc():\n",
        "  global x\n",
        "  x = 2\n",
        "  print(\"x is \", x)\n",
        "\n",
        "myfunc()\n",
        "\n",
        "print(\"x is \", x)"
      ],
      "execution_count": null,
      "outputs": []
    },
    {
      "cell_type": "markdown",
      "metadata": {
        "id": "pOEc8D_nwSdw"
      },
      "source": [
        "Also, use the global keyword if you want to change a global variable inside a function."
      ]
    },
    {
      "cell_type": "code",
      "metadata": {
        "id": "2eB9nYxWwTWZ"
      },
      "source": [
        "# To change the value of a global variable inside a function, refer to the variable by using the global keyword:\n",
        "x = 3\n",
        "\n",
        "def myfunc():\n",
        "  global x\n",
        "  x = 2\n",
        "  print(\"x is:\", x)\n",
        "\n",
        "myfunc()\n",
        "\n",
        "print(\"x is: \", x)"
      ],
      "execution_count": null,
      "outputs": []
    }
  ]
}